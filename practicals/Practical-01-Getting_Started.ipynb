{
 "cells": [
  {
   "cell_type": "markdown",
   "metadata": {},
   "source": [
    "<div style=\"float:left\">\n",
    "            <h1 style=\"width:450px\">CASA0007 Practical 1: Getting Started</h1>\n",
    "            <h2 style=\"width:450px\">Getting to grips with various tools</h2>\n",
    "</div>\n",
    "<div style=\"float:right\"><img width=\"100\" src=\"https://github.com/jreades/i2p/raw/master/img/casa_logo.jpg\" /></div>"
   ]
  },
  {
   "cell_type": "markdown",
   "metadata": {},
   "source": [
    "## Welcome!\n",
    "\n",
    "In this practical, you will achieve the following objectives:\n",
    "1. Review weekly quiz;\n",
    "1. Review one of the projects on Moodle and give your mark and comments;\n",
    "1. Install the Python computing environments (Docker or Anaconda) and relevant tools;\n",
    "1. Install Zotero and UCL Harvard referencing style.\n",
    "\n",
    "Don't worry if Objective 3 and 4 are too much for this tutorial. \n",
    "\n",
    "Take your time to practice with these tools in the first few weeks and in different modules.\n",
    "\n",
    "**Practice makes perfect.**"
   ]
  },
  {
   "cell_type": "markdown",
   "metadata": {},
   "source": [
    "## Part 1: weekly quiz\n",
    "\n",
    "We will review the weekly quiz on Moodle."
   ]
  },
  {
   "cell_type": "markdown",
   "metadata": {},
   "source": [
    "## Part 2: Reviewing projects\n",
    "\n",
    "Understanding the mark scheme and reviewing previous projects will help you work well on the assessments and pass this module. To achieve this, we release several projects from previous years and ask you to *mark* these projects.\n",
    "\n",
    "Please choose one or more projects from [this folder](https://moodle.ucl.ac.uk/mod/folder/view.php?id=6187884) (Moodle login required), and give your mark/comments for the chosen projects, under the criteria of ‘Context’ and ‘Communication’. You may want to read the mark scheme before giving your mark/comments.\n",
    " \n",
    "Please keep your marks/comments. We will discuss the marks/comments in the practical."
   ]
  },
  {
   "cell_type": "markdown",
   "metadata": {},
   "source": [
    "## Part 3: Installing tools\n",
    "\n",
    "At CASA, we intend to share the **SDS** computing infrastructure across different modules. So, for this part, please follow the guidance on [Installation ‘Fest’](https://jreades.github.io/sds_env/setup/install_fest.html). There are two options of Python environment, namely Docker and Anaconda. Please install Docker if you can. Anaconda should only be used as a last resort if you are unable to get Docker working.\n",
    "\n",
    "You can skip this part if you have finished the Practical 1 of CASA0013.\n",
    "\n",
    "When you finish this part, you should be able to use the following tools:\n",
    "\n",
    "1. Python computing environment (Docker or Anaconda)\n",
    "1. Command line tool (bash on Mac/Linux, or WSL2 on Windows)\n",
    "1. Git and Github\n",
    "1. Markdown\n",
    "1. Jupyter"
   ]
  },
  {
   "cell_type": "markdown",
   "metadata": {},
   "source": [
    "## Part 4: Mendeley and Harvard referencing style"
   ]
  },
  {
   "cell_type": "markdown",
   "metadata": {},
   "source": [
    "Proper citation and referencing is very important for excellent academic writing.\n",
    "\n",
    "In this module, we recommend using [Zotero](https://www.zotero.org/) to manage references, add citations and bibliograpy. \n",
    "\n",
    "If you don't like Zotero, you could use alternatives like [Mendeley Reference Manager](https://www.mendeley.com/download-reference-manager/) or [Endnote](https://endnote.com/).\n",
    "\n",
    "Note that Zetero is free (with up to 300 MB storage) and open-source; Mendeley is free but not open source; Endnote is neither free nor open source. If you use Zotero and needs storage space of more than 300 MB, you need to pay for it (see [this page](https://www.zotero.org/storage)).\n",
    "\n",
    "Here is the official guide to Mendeley:\n",
    "\n",
    "* [Quick start guide of Zotero](https://www.zotero.org/support/quick_start_guide)\n",
    "\n",
    "While there are many referencing styles (e.g. Harvard, APA), we recommended using **Harvard referencing style** in this module. \n",
    "\n",
    "If you don't know Harvard style, you will find this link useful:\n",
    "\n",
    "* [What is the official Harvard style?](https://www.zotero.org/support/kb/harvard_style)\n",
    "\n",
    "Funny facts about Harvard style:\n",
    "1. \"Harvard style\" is a popular name for the author-date type of parenthetical referencing.\n",
    "1. This ways of referencing does not originate from Harvard University.\n",
    "1. There is no \"official\" Harvard style; instead, there are many variants of \"Harvard style\" in use.\n",
    "\n",
    "If you have installed Zotero on the PC, installing the UCL Harvard referencing style is quite easy:\n",
    "1. In the browser, open [this link](https://www.zotero.org/styles/ucl-university-college-harvard); alternatively, you can open [this page](https://www.zotero.org/styles?q=harvard), search for *UCL University College - Harvard (Dansk)*, and click on the hyperlink'\n",
    "2. You will get a pop-up window, asking **\"Add citation style to Zotero?\"**. Select 'OK' and then the UCL Harvard Style will be installed to the Zotero.\n",
    "\n",
    "By the end of this part, you should be able to use Zotero (or alternatives) to manage your references/research sources and to add citations/biliography to a MS word document."
   ]
  }
 ],
 "metadata": {
  "kernelspec": {
   "display_name": "Python 3.8.10 64-bit",
   "language": "python",
   "name": "python3"
  },
  "language_info": {
   "codemirror_mode": {
    "name": "ipython",
    "version": 3
   },
   "file_extension": ".py",
   "mimetype": "text/x-python",
   "name": "python",
   "nbconvert_exporter": "python",
   "pygments_lexer": "ipython3",
   "version": "3.8.10"
  },
  "vscode": {
   "interpreter": {
    "hash": "916dbcbb3f70747c44a77c7bcd40155683ae19c65e1c03b4aa3499c5328201f1"
   }
  }
 },
 "nbformat": 4,
 "nbformat_minor": 4
}
